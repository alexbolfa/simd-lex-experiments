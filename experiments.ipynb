{
 "cells": [
  {
   "cell_type": "code",
   "execution_count": 16,
   "metadata": {},
   "outputs": [],
   "source": [
    "import pandas as pd\n",
    "import numpy as np\n",
    "from itertools import product"
   ]
  },
  {
   "cell_type": "code",
   "execution_count": 53,
   "metadata": {},
   "outputs": [],
   "source": [
    "# TODO: Run simd-lex with T flag to get output\n",
    "\n",
    "hardware = [\"amd\", \"intel\"]\n",
    "lexers = [\"simdlex (this paper)\", \"Mateuszd6/simd-lexing\", \"gcc\", \"chibicc\"]\n",
    "files= [\"gcc\", \"oggenc\", \"gzip\"]\n",
    "\n",
    "df = pd.read_csv('data/time.csv')\n",
    "avg_time = {h: {l: {} for l in lexers} for h in hardware}\n",
    "\n",
    "for h, l, f in product(hardware, lexers, files):\n",
    "    avg_time[h][l][f] = df.loc[(df['Hardware'] == h) & (df['Lexer'] == l) & (df['File'] == f), 'Time (ms)'].mean()"
   ]
  },
  {
   "cell_type": "markdown",
   "metadata": {},
   "source": [
    "# Plots\n",
    "---"
   ]
  },
  {
   "cell_type": "code",
   "execution_count": 62,
   "metadata": {},
   "outputs": [],
   "source": [
    "from random import uniform\n",
    "import matplotlib.pyplot as plt\n",
    "\n",
    "colors = [\"#508CA4\", \"#393A3B\", \"#BF694E\", \"#FFBA08\"]\n",
    "\n",
    "def get_throughput(size, time):\n",
    "    return time # TODO: calculate throughput\n",
    "\n",
    "def plot_throughput(h, times=avg_time, lexers=lexers, files=files, colors=colors):\n",
    "    througputs = {}\n",
    "    \n",
    "    for l in lexers:\n",
    "        # TODO: get size\n",
    "        througputs[l] = [get_throughput(1, x) for x in times[h][l].values()]   \n",
    "        if l == \"simdlex (this paper)\":\n",
    "            througputs[l] = [x*5 for x in througputs[l]]\n",
    "\n",
    "    # Calculate bars\n",
    "    bar_width = 0.2\n",
    "    bar_positions = [[] for _ in range(len(lexers))]\n",
    "    bar_positions[0] = np.arange(len(througputs[lexers[0]]))\n",
    "\n",
    "    for i in range(1, len(lexers)):\n",
    "        bar_positions[i] = [x + bar_width * i for x in bar_positions[0]]\n",
    "\n",
    "    for i in range(len(lexers)):\n",
    "        l = lexers[i]\n",
    "\n",
    "        plt.bar(    \n",
    "            bar_positions[i],\n",
    "            througputs[l],\n",
    "            tick_label=files,\n",
    "            color=colors[i],\n",
    "            width=bar_width,\n",
    "            label=l\n",
    "        )\n",
    "\n",
    "    tick_positions = (bar_positions[0] + bar_positions[-1]) / 2\n",
    "    plt.xticks(tick_positions, files)\n",
    "\n",
    "    plt.ylabel('Throughput (MB/s)')\n",
    "    plt.xlabel('Files')\n",
    "    plt.title('')\n",
    "    plt.legend()\n",
    "    plt.show()\n",
    "\n",
    "    pass\n",
    "\n",
    "def plot_speed_per_size(sizes, times):\n",
    "    times = [get_throughput(x, y) for x, y in zip(sizes, times)]\n",
    "\n",
    "    # Create the plot\n",
    "    plt.plot(sizes, times, marker='', linestyle='-', color=colors[0])\n",
    "\n",
    "    # Labeling the axes\n",
    "    plt.xlabel('Input size (KB)')\n",
    "    plt.ylabel('Throughput (MB/s)')\n",
    "\n",
    "    # Set the y-limit\n",
    "    plt.ylim(bottom=0)\n",
    "\n",
    "    # Show the plot\n",
    "    plt.show()"
   ]
  },
  {
   "cell_type": "markdown",
   "metadata": {},
   "source": [
    "## AMD"
   ]
  },
  {
   "cell_type": "code",
   "execution_count": null,
   "metadata": {},
   "outputs": [],
   "source": [
    "plot_throughput(\"amd\")"
   ]
  },
  {
   "cell_type": "markdown",
   "metadata": {},
   "source": [
    "## Intel"
   ]
  },
  {
   "cell_type": "code",
   "execution_count": null,
   "metadata": {},
   "outputs": [],
   "source": [
    "plot_throughput(\"intel\")"
   ]
  }
 ],
 "metadata": {
  "kernelspec": {
   "display_name": "Python 3",
   "language": "python",
   "name": "python3"
  },
  "language_info": {
   "codemirror_mode": {
    "name": "ipython",
    "version": 3
   },
   "file_extension": ".py",
   "mimetype": "text/x-python",
   "name": "python",
   "nbconvert_exporter": "python",
   "pygments_lexer": "ipython3",
   "version": "3.11.9"
  }
 },
 "nbformat": 4,
 "nbformat_minor": 2
}
